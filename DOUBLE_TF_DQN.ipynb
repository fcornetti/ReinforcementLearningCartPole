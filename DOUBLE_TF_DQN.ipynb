{
  "nbformat": 4,
  "nbformat_minor": 2,
  "metadata": {
    "colab": {
      "name": "DOUBLE_TF_DQN.ipynb",
      "provenance": [],
      "collapsed_sections": []
    },
    "kernelspec": {
      "display_name": "Python 3",
      "name": "python3"
    },
    "accelerator": "GPU"
  },
  "cells": [
    {
      "cell_type": "code",
      "execution_count": null,
      "source": [
        "%%capture\n",
        "!apt-get update\n",
        "!pip install pyglet\n",
        "!pip install gym pyvirtualdisplay\n",
        "!pip install xvfbwrapper\n",
        "!apt-get install -y xvfb python-opengl ffmpeg\n",
        "!pip install tensorflow==2.1.* \n",
        "import gym\n",
        "from gym.wrappers import Monitor\n",
        "from collections import deque\n",
        "import tensorflow as tf\n",
        "import numpy as np\n",
        "import random\n",
        "import math\n",
        "import glob\n",
        "import io\n",
        "import base64\n",
        "from IPython.display import HTML\n",
        "from IPython import display as ipythondisplay\n",
        "from pyvirtualdisplay import Display\n",
        "display = Display(visible=0, size=(1400, 900))\n",
        "display.start()\n",
        "from statistics import mean\n",
        "from matplotlib import pyplot as pl"
      ],
      "outputs": [],
      "metadata": {
        "id": "OvvBAoQVJsuU"
      }
    },
    {
      "cell_type": "markdown",
      "source": [
        "`Environment initialization`"
      ],
      "metadata": {
        "id": "rR3FpQE4nPar"
      }
    },
    {
      "cell_type": "code",
      "execution_count": null,
      "source": [
        "env = gym.make('CartPole-v0')\n",
        "num_features = env.observation_space.shape[0]\n",
        "num_actions = env.action_space.n"
      ],
      "outputs": [],
      "metadata": {
        "id": "rxOHU5VsU7JB"
      }
    },
    {
      "cell_type": "markdown",
      "source": [
        "`Agent`"
      ],
      "metadata": {
        "id": "WR351Mjun9Jn"
      }
    },
    {
      "cell_type": "code",
      "execution_count": null,
      "source": [
        "class Agent:\n",
        "\n",
        "  def __init__(self, main_model, target_model, env, gamma, optimizer, loss_fn):\n",
        "    self.main_model = main_model\n",
        "    self.target_model = target_model\n",
        "    self.env = env \n",
        "    self.discount = gamma\n",
        "    self.optimizer = optimizer \n",
        "    self.loss_fn = loss_fn\n",
        "    \n",
        "  def select_epsilon_greedy_action(self, state, epsilon): \n",
        "    state = tf.expand_dims(state, axis=0)\n",
        "    result = tf.random.uniform((1,))\n",
        "    if result < epsilon:\n",
        "      return self.env.action_space.sample()\n",
        "    else:\n",
        "      return tf.argmax(self.main_model(state)[0]).numpy()\n",
        "  \n",
        "  def train_step(self, states, actions, rewards, next_states, dones):\n",
        "    next_qs_main = self.main_model(next_states)\n",
        "    next_qs_argmax = tf.argmax(next_qs_main, axis=-1)\n",
        "    num_actions = self.main_model.num_actions \n",
        "    next_action_mask = tf.one_hot(next_qs_argmax, num_actions)\n",
        "    next_qs_target = self.target_model(next_states)\n",
        "    masked_next_qs = tf.reduce_sum(next_action_mask * next_qs_target, axis=-1)\n",
        "    target = rewards + (1. - dones) * self.discount * masked_next_qs\n",
        "\n",
        "    with tf.GradientTape() as tape:\n",
        "      qs = self.main_model(states)\n",
        "      num_actions = self.main_model.num_actions\n",
        "      action_masks = tf.one_hot(actions, num_actions)\n",
        "      masked_qs = tf.reduce_sum(action_masks * qs, axis=-1)\n",
        "      loss = self.loss_fn(target, masked_qs)\n",
        "    grads = tape.gradient(loss, self.main_model.trainable_variables)\n",
        "    self.optimizer.apply_gradients(zip(grads, self.main_model.trainable_variables))\n",
        "    return loss"
      ],
      "outputs": [],
      "metadata": {
        "id": "-Oh1i58wnj0p"
      }
    },
    {
      "cell_type": "markdown",
      "source": [
        "`Build DDQN agent model`"
      ],
      "metadata": {
        "id": "Ob-AUEpDO8MR"
      }
    },
    {
      "cell_type": "code",
      "execution_count": null,
      "source": [
        "class DDQN(tf.keras.Model):\n",
        "  \"\"\"Dense neural network class.\"\"\"\n",
        "  def __init__(self, num_actions):\n",
        "    super(DDQN, self).__init__()\n",
        "    self.num_actions = num_actions\n",
        "    self.dense1 = tf.keras.layers.Dense(32, activation=\"relu\")\n",
        "    self.dense2 = tf.keras.layers.Dense(32, activation=\"relu\")\n",
        "    self.dense3 = tf.keras.layers.Dense(self.num_actions, dtype=tf.float32) # no activation\n",
        "    \n",
        "  def call(self, x):\n",
        "    \"\"\"Forward pass.\"\"\"\n",
        "    x = self.dense1(x)\n",
        "    x = self.dense2(x)\n",
        "    return self.dense3(x)"
      ],
      "outputs": [],
      "metadata": {
        "id": "yBjdd9KfFLml"
      }
    },
    {
      "cell_type": "markdown",
      "source": [
        "`Experience replay buffer`"
      ],
      "metadata": {
        "id": "hzbW0Qs9nq2R"
      }
    },
    {
      "cell_type": "code",
      "execution_count": null,
      "source": [
        "class ReplayBuffer(object):\n",
        "  \"\"\"Experience replay buffer that samples uniformly.\"\"\"\n",
        "  def __init__(self, size):\n",
        "    self.buffer = deque(maxlen=size)\n",
        "\n",
        "  def add(self, state, action, reward, next_state, done):\n",
        "    self.buffer.append((state, action, reward, next_state, done))\n",
        "\n",
        "  def __len__(self):\n",
        "    return len(self.buffer)\n",
        "\n",
        "  def sample(self, num_samples):\n",
        "    states, actions, rewards, next_states, dones = [], [], [], [], []\n",
        "    idx = np.random.choice(len(self.buffer), num_samples)\n",
        "    for i in idx:\n",
        "      elem = self.buffer[i]\n",
        "      state, action, reward, next_state, done = elem\n",
        "      states.append(np.array(state, copy=False))\n",
        "      actions.append(np.array(action, copy=False))\n",
        "      rewards.append(reward)\n",
        "      next_states.append(np.array(next_state, copy=False))\n",
        "      dones.append(done)\n",
        "    states = np.array(states)\n",
        "    actions = np.array(actions)\n",
        "    rewards = np.array(rewards, dtype=np.float32)\n",
        "    next_states = np.array(next_states)\n",
        "    dones = np.array(dones, dtype=np.float32)\n",
        "    return states, actions, rewards, next_states, dones"
      ],
      "outputs": [],
      "metadata": {
        "id": "oL6H4DhWP5p1"
      }
    },
    {
      "cell_type": "markdown",
      "source": [
        "`Main training loop`"
      ],
      "metadata": {
        "id": "BA4gHNb-mxnP"
      }
    },
    {
      "cell_type": "code",
      "execution_count": null,
      "source": [
        "num_model_run = 5\n",
        "mean_rewards_models = []\n",
        "rewards_models = []\n",
        "for n in range(num_model_run):\n",
        "\n",
        "  # hiperparameters\n",
        "  num_episodes = 1000\n",
        "  epsilon = 1\n",
        "  batch_size = 32\n",
        "  discount = 0.99\n",
        "  buffer = ReplayBuffer(100000)\n",
        "  approx_iterations = 1e3\n",
        "  epsilon_min = 0.05\n",
        "  epsilon_decay = (epsilon_min / epsilon) ** (1 / approx_iterations)\n",
        "  cur_frame = 0\n",
        "\n",
        "  # model istantiation\n",
        "  main_nn = DDQN(num_actions)\n",
        "  target_nn = DDQN(num_actions)\n",
        "  optimizer = tf.keras.optimizers.Adam(1e-4)\n",
        "  mse = tf.keras.losses.MeanSquaredError()\n",
        "\n",
        "  # agent istantiation\n",
        "  agent = Agent(main_nn, target_nn, env, discount, optimizer, mse) \n",
        "  last_100_ep_rewards = []\n",
        "  mean_last_100_ep_rewards = []\n",
        "\n",
        "  agent = Agent(main_nn, target_nn, env, discount, optimizer, mse) \n",
        "  last_100_ep_rewards = []\n",
        "  mean_last_100_ep_rewards = []\n",
        "\n",
        "  for episode in range(num_episodes+1):\n",
        "    state = env.reset()\n",
        "    ep_reward, done = 0, False\n",
        "    while not done:\n",
        "      action = agent.select_epsilon_greedy_action(state,epsilon)\n",
        "      next_state, reward, done, info = env.step(action)\n",
        "      ep_reward += reward\n",
        "      \n",
        "      buffer.add(state, action, reward, next_state, done)\n",
        "      state = next_state\n",
        "\n",
        "      cur_frame += 1\n",
        "      if cur_frame % 2000 == 0:\n",
        "        target_nn.set_weights(main_nn.get_weights())\n",
        "\n",
        "      if len(buffer) >= batch_size:\n",
        "        states, actions, rewards, next_states, dones = buffer.sample(batch_size)\n",
        "        loss = agent.train_step(states, actions, rewards, next_states, dones)\n",
        "\n",
        "    epsilon *= epsilon_decay\n",
        "\n",
        "    if episode != 0:\n",
        "      rewards_models.append(ep_reward) \n",
        "    \n",
        "    last_100_ep_rewards.append(ep_reward)\n",
        "    if len(last_100_ep_rewards) == 100:\n",
        "      last_100_ep_rewards = last_100_ep_rewards[1:]\n",
        "      \n",
        "    if episode % 50 == 0:\n",
        "      mean_last_100_ep_rewards.append(np.mean(last_100_ep_rewards))\n",
        "      mean_rewards_models.append(np.mean(last_100_ep_rewards))\n",
        "\n",
        "  env.close()"
      ],
      "outputs": [],
      "metadata": {
        "id": "HdBCQEGNcVnV"
      }
    },
    {
      "cell_type": "markdown",
      "source": [
        "`Plot average mean and std dev reward along episodes over several runs`"
      ],
      "metadata": {
        "id": "WW77T-Jxr54R"
      }
    },
    {
      "cell_type": "code",
      "execution_count": null,
      "source": [
        "def plot_mean_std_reward(models_rewards, episodes_num, model_run_num):\n",
        "  rewards_tot = np.array(models_rewards)\n",
        "  rewards_tot = rewards_tot.reshape(model_run_num, episodes_num)\n",
        "  mean = rewards_tot.mean(axis=0)\n",
        "  standard_dev = rewards_tot.std(axis=0)\n",
        "  pl.plot(mean)\n",
        "  pl.fill_between(range(episodes_num), mean-2*standard_dev, mean+2*standard_dev, alpha=0.3, facecolor='r')\n",
        "  pl.show()"
      ],
      "outputs": [],
      "metadata": {
        "id": "f9w-5kfZhxnN"
      }
    },
    {
      "cell_type": "code",
      "execution_count": null,
      "source": [
        "plot_mean_std_reward(rewards_models, num_episodes, num_model_run)"
      ],
      "outputs": [
        {
          "output_type": "display_data",
          "data": {
            "text/plain": [
              "<Figure size 432x288 with 1 Axes>"
            ],
            "image/png": "[encoded data removed]"
          },
          "metadata": {
            "tags": [],
            "needs_background": "light"
          }
        }
      ],
      "metadata": {
        "colab": {
          "base_uri": "https://localhost:8080/",
          "height": 265
        },
        "id": "Oc0dy_f3iE7p",
        "outputId": "b638fc3c-b2a2-46bd-d991-94935b7cb549"
      }
    },
    {
      "cell_type": "markdown",
      "source": [
        "`Evaluation loop => video display result of trained DDQN agent`"
      ],
      "metadata": {
        "id": "AxzxGYh_OmQg"
      }
    },
    {
      "cell_type": "code",
      "execution_count": null,
      "source": [
        "def show_video():\n",
        "  \"\"\"Enables video recording of gym environment and shows it.\"\"\"\n",
        "  mp4list = glob.glob('video/*.mp4')\n",
        "  if len(mp4list) > 0:\n",
        "    mp4 = mp4list[0]\n",
        "    video = io.open(mp4, 'r+b').read()\n",
        "    encoded = base64.b64encode(video)\n",
        "    ipythondisplay.display(HTML(data='''<video alt=\"test\" autoplay \n",
        "                loop controls style=\"height: 400px;\">\n",
        "                <source src=\"data:video/mp4;base64,{0}\" type=\"video/mp4\" />\n",
        "             </video>'''.format(encoded.decode('ascii'))))\n",
        "  else: \n",
        "    print(\"Video not found\")\n",
        "    \n",
        "\n",
        "def wrap_env(env):\n",
        "  env = Monitor(env, './video', force=True)\n",
        "  return env"
      ],
      "outputs": [],
      "metadata": {
        "id": "Z8sEgVgvM2OQ"
      }
    },
    {
      "cell_type": "code",
      "execution_count": null,
      "source": [
        "env = wrap_env(gym.make('CartPole-v0'))\n",
        "state = env.reset()\n",
        "done = False\n",
        "ep_rew = 0\n",
        "while not done:\n",
        "  env.render()\n",
        "  action = agent.select_epsilon_greedy_action(state,epsilon=0.01)\n",
        "  state, reward, done, info = env.step(action)\n",
        "  ep_rew += reward\n",
        "print('Episode reward: {}'.format(ep_rew))\n",
        "env.close()\n",
        "show_video()"
      ],
      "outputs": [
        {
          "output_type": "stream",
          "name": "stdout",
          "text": [
            "Episode reward: 200.0\n"
          ]
        },
        {
          "output_type": "display_data",
          "data": {
            "text/plain": [
              "<IPython.core.display.HTML object>"
            ],
            "text/html": [
              "<video alt=\"test\" autoplay \n",
              "                loop controls style=\"height: 400px;\">\n",
              "                <source src=\"data:video/mp4;base64,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\" type=\"video/mp4\" />\n",
              "             </video>"
            ]
          },
          "metadata": {
            "tags": []
          }
        }
      ],
      "metadata": {
        "colab": {
          "base_uri": "https://localhost:8080/",
          "height": 438
        },
        "id": "xhj_FP7LGAYo",
        "outputId": "3ca27c9d-e876-4e23-bd31-149866c79ce6"
      }
    }
  ]
}